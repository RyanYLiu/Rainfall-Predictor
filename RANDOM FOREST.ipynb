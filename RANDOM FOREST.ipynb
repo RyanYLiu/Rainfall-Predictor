{
 "cells": [
  {
   "cell_type": "code",
   "execution_count": 2,
   "metadata": {
    "collapsed": true
   },
   "outputs": [],
   "source": [
    "from __future__ import division\n",
    "import numpy as np\n",
    "import matplotlib.pyplot as plt\n",
    "import mltools as ml\n",
    "%matplotlib inline\n",
    "np.random.seed(0)\n",
    "from sklearn.ensemble import RandomForestClassifier\n",
    "from sklearn.model_selection import cross_val_score\n",
    "from sklearn.metrics import roc_auc_score\n",
    "\n",
    "import warnings\n",
    "warnings.filterwarnings('ignore')\n",
    "\n",
    "X = np.genfromtxt('X_train.txt', delimiter=None)\n",
    "Y = np.genfromtxt('Y_train.txt', delimiter=None)\n",
    "X,Y = ml.shuffleData(X,Y)"
   ]
  },
  {
   "cell_type": "code",
   "execution_count": 3,
   "metadata": {
    "collapsed": true
   },
   "outputs": [],
   "source": [
    "Xtr, Xva, Ytr, Yva = ml.splitData(X, Y, 0.75)\n",
    "Xte = np.genfromtxt('X_test.txt', delimiter=None)"
   ]
  },
  {
   "cell_type": "code",
   "execution_count": 7,
   "metadata": {},
   "outputs": [
    {
     "name": "stdout",
     "output_type": "stream",
     "text": [
      "10\n",
      "ROC = 0.736564165569\n",
      "training err = 0.0646266666667\n",
      "val err = 0.2825\n",
      "\n",
      "50\n",
      "ROC = 0.751813192125\n",
      "training err = 0.04924\n",
      "val err = 0.27658\n",
      "\n",
      "250\n",
      "ROC = 0.754812143944\n",
      "training err = 0.0487733333333\n",
      "val err = 0.2749\n",
      "\n",
      "500\n",
      "ROC = 0.755482161629\n",
      "training err = 0.0487733333333\n",
      "val err = 0.27536\n",
      "\n",
      "1000\n",
      "ROC = 0.755624990602\n",
      "training err = 0.0487733333333\n",
      "val err = 0.27492\n",
      "\n",
      "2500\n",
      "ROC = 0.755824432849\n",
      "training err = 0.0487733333333\n",
      "val err = 0.275\n",
      "\n"
     ]
    }
   ],
   "source": [
    "# Xtr, Ytr = X[:10000], Y[:10000]\n",
    "# Xva, Yva = X[10000:20000], Y[10000:20000]\n",
    "Xtr, Xva, Ytr, Yva = ml.splitData(X, Y, 0.75)\n",
    "\n",
    "for i in [10, 50, 250, 500, 1000, 2500]:\n",
    "    rforest = RandomForestClassifier(n_estimators=i)\n",
    "    rforest.fit(Xtr,Ytr)\n",
    "    print(i)\n",
    "    print(\"ROC =\", roc_auc_score(Yva, rforest.predict_proba(Xva)[:,1]) )\n",
    "    print(\"training err =\", 1-rforest.score(Xtr,Ytr))\n",
    "    print(\"val err =\", 1-rforest.score(Xva,Yva))\n",
    "    print()"
   ]
  },
  {
   "cell_type": "code",
   "execution_count": 10,
   "metadata": {},
   "outputs": [
    {
     "name": "stdout",
     "output_type": "stream",
     "text": [
      "2500\n",
      "ROC = 0.756012997806\n",
      "training err = 0.0487733333333\n",
      "val err = 0.27464\n",
      "\n"
     ]
    }
   ],
   "source": [
    "rforest = RandomForestClassifier(n_estimators=250, criterion = 'entropy')\n",
    "rforest.fit(Xtr,Ytr)\n",
    "print(\"ROC =\", roc_auc_score(Yva, rforest.predict_proba(Xva)[:,1]) )\n",
    "print(\"training err =\", 1-rforest.score(Xtr,Ytr))\n",
    "print(\"val err =\", 1-rforest.score(Xva,Yva))\n",
    "print()"
   ]
  },
  {
   "cell_type": "code",
   "execution_count": 9,
   "metadata": {},
   "outputs": [
    {
     "name": "stdout",
     "output_type": "stream",
     "text": [
      "ROC = 0.755093745089\n",
      "training err = 0.0487733333333\n",
      "val err = 0.27552\n",
      "\n"
     ]
    }
   ],
   "source": [
    "rforest = RandomForestClassifier(n_estimators=300)\n",
    "rforest.fit(Xtr,Ytr)\n",
    "print(\"ROC =\", roc_auc_score(Yva, rforest.predict_proba(Xva)[:,1]) )\n",
    "print(\"training err =\", 1-rforest.score(Xtr,Ytr))\n",
    "print(\"val err =\", 1-rforest.score(Xva,Yva))\n",
    "print()"
   ]
  },
  {
   "cell_type": "code",
   "execution_count": 11,
   "metadata": {},
   "outputs": [
    {
     "name": "stdout",
     "output_type": "stream",
     "text": [
      "2\n",
      "ROC = 0.640141002101\n",
      "training err = 0.31812\n",
      "val err = 0.31598\n",
      "\n",
      "3\n",
      "ROC = 0.651668141499\n",
      "training err = 0.312913333333\n",
      "val err = 0.31172\n",
      "\n",
      "4\n",
      "ROC = 0.661441945079\n",
      "training err = 0.31018\n",
      "val err = 0.30952\n",
      "\n",
      "5\n",
      "ROC = 0.669285419886\n",
      "training err = 0.30604\n",
      "val err = 0.30664\n",
      "\n",
      "7\n",
      "ROC = 0.684873783638\n",
      "training err = 0.297826666667\n",
      "val err = 0.30092\n",
      "\n",
      "10\n",
      "ROC = 0.712166666783\n",
      "training err = 0.279193333333\n",
      "val err = 0.291\n",
      "\n"
     ]
    }
   ],
   "source": [
    "for i in [2, 3, 4, 5, 7, 10]:\n",
    "    rforest = RandomForestClassifier(n_estimators=250, criterion='entropy',max_depth=i)\n",
    "    rforest.fit(Xtr,Ytr)\n",
    "    print(i)\n",
    "    print(\"ROC =\", roc_auc_score(Yva, rforest.predict_proba(Xva)[:,1]) )\n",
    "    print(\"training err =\", 1-rforest.score(Xtr,Ytr))\n",
    "    print(\"val err =\", 1-rforest.score(Xva,Yva))\n",
    "    print()"
   ]
  },
  {
   "cell_type": "code",
   "execution_count": 13,
   "metadata": {},
   "outputs": [
    {
     "name": "stdout",
     "output_type": "stream",
     "text": [
      "20\n",
      "ROC = 0.773212662106\n",
      "training err = 0.134313333333\n",
      "val err = 0.26278\n",
      "\n",
      "50\n",
      "ROC = 0.755660028548\n",
      "training err = 0.0487733333333\n",
      "val err = 0.27448\n",
      "\n",
      "100\n",
      "ROC = 0.755439046646\n",
      "training err = 0.0487733333333\n",
      "val err = 0.27498\n",
      "\n"
     ]
    }
   ],
   "source": [
    "for i in [20,50,100]:\n",
    "    rforest = RandomForestClassifier(n_estimators=250, criterion='entropy',max_depth=i)\n",
    "    rforest.fit(Xtr,Ytr)\n",
    "    print(i)\n",
    "    print(\"ROC =\", roc_auc_score(Yva, rforest.predict_proba(Xva)[:,1]) )\n",
    "    print(\"training err =\", 1-rforest.score(Xtr,Ytr))\n",
    "    print(\"val err =\", 1-rforest.score(Xva,Yva))\n",
    "    print()"
   ]
  },
  {
   "cell_type": "code",
   "execution_count": 18,
   "metadata": {},
   "outputs": [
    {
     "name": "stdout",
     "output_type": "stream",
     "text": [
      "5\n",
      "ROC = 0.775530030479\n",
      "training err = 0.183146666667\n",
      "val err = 0.26188\n",
      "\n",
      "20\n",
      "ROC = 0.758797152358\n",
      "training err = 0.23686\n",
      "val err = 0.2721\n",
      "\n",
      "50\n",
      "ROC = 0.739538552745\n",
      "training err = 0.26586\n",
      "val err = 0.28136\n",
      "\n",
      "100\n",
      "ROC = 0.722307728047\n",
      "training err = 0.281386666667\n",
      "val err = 0.28936\n",
      "\n",
      "250\n",
      "ROC = 0.701727346435\n",
      "training err = 0.294166666667\n",
      "val err = 0.2978\n",
      "\n",
      "500\n",
      "ROC = 0.689483204847\n",
      "training err = 0.299653333333\n",
      "val err = 0.3013\n",
      "\n",
      "1000\n",
      "ROC = 0.679611568977\n",
      "training err = 0.305946666667\n",
      "val err = 0.30662\n",
      "\n",
      "5000\n",
      "ROC = 0.657644836339\n",
      "training err = 0.313753333333\n",
      "val err = 0.3126\n",
      "\n",
      "10000\n",
      "ROC = 0.645991637384\n",
      "training err = 0.317493333333\n",
      "val err = 0.31486\n",
      "\n",
      "12500\n",
      "ROC = 0.641928007845\n",
      "training err = 0.32158\n",
      "val err = 0.3192\n",
      "\n",
      "15000\n",
      "ROC = 0.639350134757\n",
      "training err = 0.34204\n",
      "val err = 0.33752\n",
      "\n",
      "17500\n",
      "ROC = 0.635412659306\n",
      "training err = 0.344\n",
      "val err = 0.33958\n",
      "\n",
      "20000\n",
      "ROC = 0.635340440416\n",
      "training err = 0.344\n",
      "val err = 0.33958\n",
      "\n"
     ]
    }
   ],
   "source": [
    "for i in [5,20,50,100,250,500,1000,5000,10000, 12500, 15000, 17500, 20000]:\n",
    "    rforest = RandomForestClassifier(n_estimators=250, criterion='entropy',max_depth=20, min_samples_leaf =i)\n",
    "    rforest.fit(Xtr,Ytr)\n",
    "    print(i)\n",
    "    print(\"ROC =\", roc_auc_score(Yva, rforest.predict_proba(Xva)[:,1]) )\n",
    "    print(\"training err =\", 1-rforest.score(Xtr,Ytr))\n",
    "    print(\"val err =\", 1-rforest.score(Xva,Yva))\n",
    "    print()"
   ]
  },
  {
   "cell_type": "code",
   "execution_count": 19,
   "metadata": {},
   "outputs": [
    {
     "name": "stdout",
     "output_type": "stream",
     "text": [
      "sqrt\n",
      "ROC = 0.638487127001\n",
      "training err = 0.343386666667\n",
      "val err = 0.33868\n",
      "\n",
      "0.2\n",
      "ROC = 0.636110333506\n",
      "training err = 0.344\n",
      "val err = 0.33958\n",
      "\n",
      "0.3\n",
      "ROC = 0.640841948317\n",
      "training err = 0.32236\n",
      "val err = 0.31964\n",
      "\n",
      "0.5\n",
      "ROC = 0.644519265965\n",
      "training err = 0.317213333333\n",
      "val err = 0.31448\n",
      "\n"
     ]
    }
   ],
   "source": [
    "for i in ['sqrt',0.2,0.3,0.5]:\n",
    "    rforest = RandomForestClassifier(n_estimators=250, criterion='entropy',max_depth=20, min_samples_leaf=200, max_features=i)\n",
    "    rforest.fit(Xtr,Ytr)\n",
    "    print(i)\n",
    "    print(\"ROC =\", roc_auc_score(Yva, rforest.predict_proba(Xva)[:,1]) )\n",
    "    print(\"training err =\", 1-rforest.score(Xtr,Ytr))\n",
    "    print(\"val err =\", 1-rforest.score(Xva,Yva))\n",
    "    print()"
   ]
  },
  {
   "cell_type": "code",
   "execution_count": 24,
   "metadata": {
    "collapsed": true
   },
   "outputs": [
    {
     "name": "stdout",
     "output_type": "stream",
     "text": [
      "(0, 1, 2, 3, 4, 5, 6)\n",
      "0.32504\n",
      "(0, 1, 2, 3, 4, 5, 7)\n",
      "0.32638\n",
      "(0, 1, 2, 3, 4, 5, 8)\n",
      "0.32578\n",
      "(0, 1, 2, 3, 4, 5, 9)\n",
      "0.32936\n",
      "(0, 1, 2, 3, 4, 5, 10)\n",
      "0.32538\n",
      "(0, 1, 2, 3, 4, 5, 11)\n",
      "0.33036\n",
      "(0, 1, 2, 3, 4, 5, 12)\n",
      "0.321\n",
      "(0, 1, 2, 3, 4, 5, 13)\n",
      "0.31592\n",
      "(0, 1, 2, 3, 4, 6, 7)\n",
      "0.33248\n",
      "(0, 1, 2, 3, 4, 6, 8)\n",
      "0.32546\n",
      "(0, 1, 2, 3, 4, 6, 9)\n",
      "0.323\n",
      "(0, 1, 2, 3, 4, 6, 10)\n",
      "0.33216\n",
      "(0, 1, 2, 3, 4, 6, 11)\n",
      "0.33958\n",
      "(0, 1, 2, 3, 4, 6, 12)\n",
      "0.3203\n",
      "(0, 1, 2, 3, 4, 6, 13)\n",
      "0.31602\n",
      "(0, 1, 2, 3, 4, 7, 8)\n",
      "0.32894\n",
      "(0, 1, 2, 3, 4, 7, 9)\n",
      "0.32856\n",
      "(0, 1, 2, 3, 4, 7, 10)\n",
      "0.3308\n",
      "(0, 1, 2, 3, 4, 7, 11)\n",
      "0.33114\n",
      "(0, 1, 2, 3, 4, 7, 12)\n",
      "0.32188\n",
      "(0, 1, 2, 3, 4, 7, 13)\n",
      "0.31514\n",
      "(0, 1, 2, 3, 4, 8, 9)\n",
      "0.32962\n",
      "(0, 1, 2, 3, 4, 8, 10)\n",
      "0.33314\n",
      "(0, 1, 2, 3, 4, 8, 11)\n",
      "0.33002\n",
      "(0, 1, 2, 3, 4, 8, 12)\n",
      "0.32142\n",
      "(0, 1, 2, 3, 4, 8, 13)\n",
      "0.31498\n",
      "(0, 1, 2, 3, 4, 9, 10)\n",
      "0.32828\n",
      "(0, 1, 2, 3, 4, 9, 11)\n",
      "0.32988\n",
      "(0, 1, 2, 3, 4, 9, 12)\n",
      "0.32142\n",
      "(0, 1, 2, 3, 4, 9, 13)\n",
      "0.31506\n",
      "(0, 1, 2, 3, 4, 10, 11)\n",
      "0.33392\n",
      "(0, 1, 2, 3, 4, 10, 12)\n",
      "0.32098\n",
      "(0, 1, 2, 3, 4, 10, 13)\n",
      "0.31614\n",
      "(0, 1, 2, 3, 4, 11, 12)\n",
      "0.3287\n",
      "(0, 1, 2, 3, 4, 11, 13)\n",
      "0.31476\n",
      "(0, 1, 2, 3, 4, 12, 13)\n",
      "0.31362\n",
      "(0, 1, 2, 3, 5, 6, 7)\n",
      "0.3327\n",
      "(0, 1, 2, 3, 5, 6, 8)\n",
      "0.32532\n",
      "(0, 1, 2, 3, 5, 6, 9)\n",
      "0.3257\n",
      "(0, 1, 2, 3, 5, 6, 10)\n",
      "0.332\n",
      "(0, 1, 2, 3, 5, 6, 11)\n",
      "0.33002\n",
      "(0, 1, 2, 3, 5, 6, 12)\n",
      "0.32132\n",
      "(0, 1, 2, 3, 5, 6, 13)\n",
      "0.31502\n",
      "(0, 1, 2, 3, 5, 7, 8)\n",
      "0.327\n",
      "(0, 1, 2, 3, 5, 7, 9)\n",
      "0.32158\n",
      "(0, 1, 2, 3, 5, 7, 10)\n",
      "0.3308\n",
      "(0, 1, 2, 3, 5, 7, 11)\n",
      "0.32626\n",
      "(0, 1, 2, 3, 5, 7, 12)\n",
      "0.3214\n",
      "(0, 1, 2, 3, 5, 7, 13)\n",
      "0.31624\n",
      "(0, 1, 2, 3, 5, 8, 9)\n",
      "0.32726\n",
      "(0, 1, 2, 3, 5, 8, 10)\n",
      "0.32066\n",
      "(0, 1, 2, 3, 5, 8, 11)\n",
      "0.32734\n",
      "(0, 1, 2, 3, 5, 8, 12)\n",
      "0.32086\n",
      "(0, 1, 2, 3, 5, 8, 13)\n",
      "0.31624\n",
      "(0, 1, 2, 3, 5, 9, 10)\n",
      "0.32724\n",
      "(0, 1, 2, 3, 5, 9, 11)\n",
      "0.33084\n",
      "(0, 1, 2, 3, 5, 9, 12)\n",
      "0.32492\n",
      "(0, 1, 2, 3, 5, 9, 13)\n",
      "0.31542\n",
      "(0, 1, 2, 3, 5, 10, 11)\n",
      "0.33058\n",
      "(0, 1, 2, 3, 5, 10, 12)\n",
      "0.32138\n",
      "(0, 1, 2, 3, 5, 10, 13)\n",
      "0.31592\n",
      "(0, 1, 2, 3, 5, 11, 12)\n",
      "0.32194\n",
      "(0, 1, 2, 3, 5, 11, 13)\n",
      "0.31594\n",
      "(0, 1, 2, 3, 5, 12, 13)\n",
      "0.31352\n",
      "(0, 1, 2, 3, 6, 7, 8)\n",
      "0.32652\n",
      "(0, 1, 2, 3, 6, 7, 9)\n",
      "0.3208\n",
      "(0, 1, 2, 3, 6, 7, 10)\n",
      "0.32806\n",
      "(0, 1, 2, 3, 6, 7, 11)\n",
      "0.33474\n",
      "(0, 1, 2, 3, 6, 7, 12)\n",
      "0.32028\n",
      "(0, 1, 2, 3, 6, 7, 13)\n",
      "0.31504\n",
      "(0, 1, 2, 3, 6, 8, 9)\n",
      "0.32444\n",
      "(0, 1, 2, 3, 6, 8, 10)\n",
      "0.32306\n",
      "(0, 1, 2, 3, 6, 8, 11)\n",
      "0.32666\n",
      "(0, 1, 2, 3, 6, 8, 12)\n",
      "0.32162\n",
      "(0, 1, 2, 3, 6, 8, 13)\n",
      "0.31506\n",
      "(0, 1, 2, 3, 6, 9, 10)\n",
      "0.32522\n",
      "(0, 1, 2, 3, 6, 9, 11)\n",
      "0.33264\n",
      "(0, 1, 2, 3, 6, 9, 12)\n",
      "0.32078\n",
      "(0, 1, 2, 3, 6, 9, 13)\n",
      "0.31486\n",
      "(0, 1, 2, 3, 6, 10, 11)\n",
      "0.3298\n",
      "(0, 1, 2, 3, 6, 10, 12)\n",
      "0.32\n",
      "(0, 1, 2, 3, 6, 10, 13)\n",
      "0.31506\n",
      "(0, 1, 2, 3, 6, 11, 12)\n",
      "0.322\n",
      "(0, 1, 2, 3, 6, 11, 13)\n",
      "0.31538\n",
      "(0, 1, 2, 3, 6, 12, 13)\n",
      "0.31312\n",
      "(0, 1, 2, 3, 7, 8, 9)\n",
      "0.3257\n",
      "(0, 1, 2, 3, 7, 8, 10)\n",
      "0.32294\n",
      "(0, 1, 2, 3, 7, 8, 11)\n",
      "0.33036\n",
      "(0, 1, 2, 3, 7, 8, 12)\n",
      "0.32192\n",
      "(0, 1, 2, 3, 7, 8, 13)\n",
      "0.31502\n",
      "(0, 1, 2, 3, 7, 9, 10)\n",
      "0.32704\n",
      "(0, 1, 2, 3, 7, 9, 11)\n",
      "0.33346\n",
      "(0, 1, 2, 3, 7, 9, 12)\n",
      "0.32026\n",
      "(0, 1, 2, 3, 7, 9, 13)\n",
      "0.31582\n",
      "(0, 1, 2, 3, 7, 10, 11)\n",
      "0.33152\n",
      "(0, 1, 2, 3, 7, 10, 12)\n",
      "0.32174\n",
      "(0, 1, 2, 3, 7, 10, 13)\n",
      "0.316\n",
      "(0, 1, 2, 3, 7, 11, 12)\n",
      "0.3232\n",
      "(0, 1, 2, 3, 7, 11, 13)\n",
      "0.31476\n",
      "(0, 1, 2, 3, 7, 12, 13)\n",
      "0.31368\n",
      "(0, 1, 2, 3, 8, 9, 10)\n",
      "0.32834\n",
      "(0, 1, 2, 3, 8, 9, 11)\n",
      "0.327\n",
      "(0, 1, 2, 3, 8, 9, 12)\n",
      "0.32536\n",
      "(0, 1, 2, 3, 8, 9, 13)\n",
      "0.31512\n",
      "(0, 1, 2, 3, 8, 10, 11)\n",
      "0.33078\n",
      "(0, 1, 2, 3, 8, 10, 12)\n",
      "0.32138\n",
      "(0, 1, 2, 3, 8, 10, 13)\n",
      "0.3152\n",
      "(0, 1, 2, 3, 8, 11, 12)\n",
      "0.32134\n",
      "(0, 1, 2, 3, 8, 11, 13)\n",
      "0.31578\n",
      "(0, 1, 2, 3, 8, 12, 13)\n",
      "0.31344\n",
      "(0, 1, 2, 3, 9, 10, 11)\n",
      "0.33138\n",
      "(0, 1, 2, 3, 9, 10, 12)\n",
      "0.32118\n",
      "(0, 1, 2, 3, 9, 10, 13)\n",
      "0.3158\n",
      "(0, 1, 2, 3, 9, 11, 12)\n",
      "0.3221\n",
      "(0, 1, 2, 3, 9, 11, 13)\n",
      "0.31508\n",
      "(0, 1, 2, 3, 9, 12, 13)\n",
      "0.3146\n",
      "(0, 1, 2, 3, 10, 11, 12)\n",
      "0.32106\n",
      "(0, 1, 2, 3, 10, 11, 13)\n",
      "0.31558\n",
      "(0, 1, 2, 3, 10, 12, 13)\n",
      "0.31428\n",
      "(0, 1, 2, 3, 11, 12, 13)\n",
      "0.3143\n",
      "(0, 1, 2, 4, 5, 6, 7)\n",
      "0.3332\n",
      "(0, 1, 2, 4, 5, 6, 8)\n",
      "0.32508\n",
      "(0, 1, 2, 4, 5, 6, 9)\n",
      "0.33176\n",
      "(0, 1, 2, 4, 5, 6, 10)\n",
      "0.3259\n",
      "(0, 1, 2, 4, 5, 6, 11)\n",
      "0.33392\n",
      "(0, 1, 2, 4, 5, 6, 12)\n",
      "0.32286\n",
      "(0, 1, 2, 4, 5, 6, 13)\n",
      "0.31632\n",
      "(0, 1, 2, 4, 5, 7, 8)\n",
      "0.33376\n",
      "(0, 1, 2, 4, 5, 7, 9)\n",
      "0.33392\n",
      "(0, 1, 2, 4, 5, 7, 10)\n",
      "0.3369\n",
      "(0, 1, 2, 4, 5, 7, 11)\n",
      "0.32874\n",
      "(0, 1, 2, 4, 5, 7, 12)\n",
      "0.32188\n",
      "(0, 1, 2, 4, 5, 7, 13)\n",
      "0.31626\n",
      "(0, 1, 2, 4, 5, 8, 9)\n",
      "0.32732\n",
      "(0, 1, 2, 4, 5, 8, 10)\n",
      "0.32178\n",
      "(0, 1, 2, 4, 5, 8, 11)\n",
      "0.32814\n",
      "(0, 1, 2, 4, 5, 8, 12)\n",
      "0.32038\n",
      "(0, 1, 2, 4, 5, 8, 13)\n",
      "0.3154\n",
      "(0, 1, 2, 4, 5, 9, 10)\n",
      "0.32308\n",
      "(0, 1, 2, 4, 5, 9, 11)\n"
     ]
    },
    {
     "ename": "KeyboardInterrupt",
     "evalue": "",
     "output_type": "error",
     "traceback": [
      "\u001b[1;31m---------------------------------------------------------------------------\u001b[0m",
      "\u001b[1;31mKeyboardInterrupt\u001b[0m                         Traceback (most recent call last)",
      "\u001b[1;32m<ipython-input-24-ecc895598b44>\u001b[0m in \u001b[0;36m<module>\u001b[1;34m()\u001b[0m\n\u001b[0;32m      4\u001b[0m     \u001b[0mprint\u001b[0m\u001b[1;33m(\u001b[0m\u001b[0mcombo\u001b[0m\u001b[1;33m)\u001b[0m\u001b[1;33m\u001b[0m\u001b[0m\n\u001b[0;32m      5\u001b[0m     \u001b[0mrforest\u001b[0m \u001b[1;33m=\u001b[0m \u001b[0mRandomForestClassifier\u001b[0m\u001b[1;33m(\u001b[0m\u001b[0mn_estimators\u001b[0m\u001b[1;33m=\u001b[0m\u001b[1;36m250\u001b[0m\u001b[1;33m,\u001b[0m \u001b[0mcriterion\u001b[0m\u001b[1;33m=\u001b[0m\u001b[1;34m'entropy'\u001b[0m\u001b[1;33m,\u001b[0m\u001b[0mmax_depth\u001b[0m\u001b[1;33m=\u001b[0m\u001b[1;36m20\u001b[0m\u001b[1;33m,\u001b[0m \u001b[0mmin_samples_leaf\u001b[0m\u001b[1;33m=\u001b[0m\u001b[1;36m15000\u001b[0m\u001b[1;33m,\u001b[0m \u001b[0mmax_features\u001b[0m\u001b[1;33m=\u001b[0m\u001b[1;36m0.5\u001b[0m\u001b[1;33m)\u001b[0m\u001b[1;33m\u001b[0m\u001b[0m\n\u001b[1;32m----> 6\u001b[1;33m     \u001b[0mrforest\u001b[0m\u001b[1;33m.\u001b[0m\u001b[0mfit\u001b[0m\u001b[1;33m(\u001b[0m\u001b[0mXtr\u001b[0m\u001b[1;33m[\u001b[0m\u001b[1;33m:\u001b[0m\u001b[1;33m,\u001b[0m\u001b[0mcombo\u001b[0m\u001b[1;33m]\u001b[0m\u001b[1;33m,\u001b[0m \u001b[0mYtr\u001b[0m\u001b[1;33m)\u001b[0m\u001b[1;33m\u001b[0m\u001b[0m\n\u001b[0m\u001b[0;32m      7\u001b[0m     \u001b[0mprint\u001b[0m\u001b[1;33m(\u001b[0m\u001b[1;36m1\u001b[0m\u001b[1;33m-\u001b[0m\u001b[0mrforest\u001b[0m\u001b[1;33m.\u001b[0m\u001b[0mscore\u001b[0m\u001b[1;33m(\u001b[0m\u001b[0mXva\u001b[0m\u001b[1;33m[\u001b[0m\u001b[1;33m:\u001b[0m\u001b[1;33m,\u001b[0m\u001b[0mcombo\u001b[0m\u001b[1;33m]\u001b[0m\u001b[1;33m,\u001b[0m\u001b[0mYva\u001b[0m\u001b[1;33m)\u001b[0m\u001b[1;33m)\u001b[0m\u001b[1;33m\u001b[0m\u001b[0m\n",
      "\u001b[1;32mD:\\Anaconda3\\lib\\site-packages\\sklearn\\ensemble\\forest.py\u001b[0m in \u001b[0;36mfit\u001b[1;34m(self, X, y, sample_weight)\u001b[0m\n\u001b[0;32m    325\u001b[0m                     \u001b[0mt\u001b[0m\u001b[1;33m,\u001b[0m \u001b[0mself\u001b[0m\u001b[1;33m,\u001b[0m \u001b[0mX\u001b[0m\u001b[1;33m,\u001b[0m \u001b[0my\u001b[0m\u001b[1;33m,\u001b[0m \u001b[0msample_weight\u001b[0m\u001b[1;33m,\u001b[0m \u001b[0mi\u001b[0m\u001b[1;33m,\u001b[0m \u001b[0mlen\u001b[0m\u001b[1;33m(\u001b[0m\u001b[0mtrees\u001b[0m\u001b[1;33m)\u001b[0m\u001b[1;33m,\u001b[0m\u001b[1;33m\u001b[0m\u001b[0m\n\u001b[0;32m    326\u001b[0m                     verbose=self.verbose, class_weight=self.class_weight)\n\u001b[1;32m--> 327\u001b[1;33m                 for i, t in enumerate(trees))\n\u001b[0m\u001b[0;32m    328\u001b[0m \u001b[1;33m\u001b[0m\u001b[0m\n\u001b[0;32m    329\u001b[0m             \u001b[1;31m# Collect newly grown trees\u001b[0m\u001b[1;33m\u001b[0m\u001b[1;33m\u001b[0m\u001b[0m\n",
      "\u001b[1;32mD:\\Anaconda3\\lib\\site-packages\\sklearn\\externals\\joblib\\parallel.py\u001b[0m in \u001b[0;36m__call__\u001b[1;34m(self, iterable)\u001b[0m\n\u001b[0;32m    777\u001b[0m             \u001b[1;31m# was dispatched. In particular this covers the edge\u001b[0m\u001b[1;33m\u001b[0m\u001b[1;33m\u001b[0m\u001b[0m\n\u001b[0;32m    778\u001b[0m             \u001b[1;31m# case of Parallel used with an exhausted iterator.\u001b[0m\u001b[1;33m\u001b[0m\u001b[1;33m\u001b[0m\u001b[0m\n\u001b[1;32m--> 779\u001b[1;33m             \u001b[1;32mwhile\u001b[0m \u001b[0mself\u001b[0m\u001b[1;33m.\u001b[0m\u001b[0mdispatch_one_batch\u001b[0m\u001b[1;33m(\u001b[0m\u001b[0miterator\u001b[0m\u001b[1;33m)\u001b[0m\u001b[1;33m:\u001b[0m\u001b[1;33m\u001b[0m\u001b[0m\n\u001b[0m\u001b[0;32m    780\u001b[0m                 \u001b[0mself\u001b[0m\u001b[1;33m.\u001b[0m\u001b[0m_iterating\u001b[0m \u001b[1;33m=\u001b[0m \u001b[1;32mTrue\u001b[0m\u001b[1;33m\u001b[0m\u001b[0m\n\u001b[0;32m    781\u001b[0m             \u001b[1;32melse\u001b[0m\u001b[1;33m:\u001b[0m\u001b[1;33m\u001b[0m\u001b[0m\n",
      "\u001b[1;32mD:\\Anaconda3\\lib\\site-packages\\sklearn\\externals\\joblib\\parallel.py\u001b[0m in \u001b[0;36mdispatch_one_batch\u001b[1;34m(self, iterator)\u001b[0m\n\u001b[0;32m    623\u001b[0m                 \u001b[1;32mreturn\u001b[0m \u001b[1;32mFalse\u001b[0m\u001b[1;33m\u001b[0m\u001b[0m\n\u001b[0;32m    624\u001b[0m             \u001b[1;32melse\u001b[0m\u001b[1;33m:\u001b[0m\u001b[1;33m\u001b[0m\u001b[0m\n\u001b[1;32m--> 625\u001b[1;33m                 \u001b[0mself\u001b[0m\u001b[1;33m.\u001b[0m\u001b[0m_dispatch\u001b[0m\u001b[1;33m(\u001b[0m\u001b[0mtasks\u001b[0m\u001b[1;33m)\u001b[0m\u001b[1;33m\u001b[0m\u001b[0m\n\u001b[0m\u001b[0;32m    626\u001b[0m                 \u001b[1;32mreturn\u001b[0m \u001b[1;32mTrue\u001b[0m\u001b[1;33m\u001b[0m\u001b[0m\n\u001b[0;32m    627\u001b[0m \u001b[1;33m\u001b[0m\u001b[0m\n",
      "\u001b[1;32mD:\\Anaconda3\\lib\\site-packages\\sklearn\\externals\\joblib\\parallel.py\u001b[0m in \u001b[0;36m_dispatch\u001b[1;34m(self, batch)\u001b[0m\n\u001b[0;32m    586\u001b[0m         \u001b[0mdispatch_timestamp\u001b[0m \u001b[1;33m=\u001b[0m \u001b[0mtime\u001b[0m\u001b[1;33m.\u001b[0m\u001b[0mtime\u001b[0m\u001b[1;33m(\u001b[0m\u001b[1;33m)\u001b[0m\u001b[1;33m\u001b[0m\u001b[0m\n\u001b[0;32m    587\u001b[0m         \u001b[0mcb\u001b[0m \u001b[1;33m=\u001b[0m \u001b[0mBatchCompletionCallBack\u001b[0m\u001b[1;33m(\u001b[0m\u001b[0mdispatch_timestamp\u001b[0m\u001b[1;33m,\u001b[0m \u001b[0mlen\u001b[0m\u001b[1;33m(\u001b[0m\u001b[0mbatch\u001b[0m\u001b[1;33m)\u001b[0m\u001b[1;33m,\u001b[0m \u001b[0mself\u001b[0m\u001b[1;33m)\u001b[0m\u001b[1;33m\u001b[0m\u001b[0m\n\u001b[1;32m--> 588\u001b[1;33m         \u001b[0mjob\u001b[0m \u001b[1;33m=\u001b[0m \u001b[0mself\u001b[0m\u001b[1;33m.\u001b[0m\u001b[0m_backend\u001b[0m\u001b[1;33m.\u001b[0m\u001b[0mapply_async\u001b[0m\u001b[1;33m(\u001b[0m\u001b[0mbatch\u001b[0m\u001b[1;33m,\u001b[0m \u001b[0mcallback\u001b[0m\u001b[1;33m=\u001b[0m\u001b[0mcb\u001b[0m\u001b[1;33m)\u001b[0m\u001b[1;33m\u001b[0m\u001b[0m\n\u001b[0m\u001b[0;32m    589\u001b[0m         \u001b[0mself\u001b[0m\u001b[1;33m.\u001b[0m\u001b[0m_jobs\u001b[0m\u001b[1;33m.\u001b[0m\u001b[0mappend\u001b[0m\u001b[1;33m(\u001b[0m\u001b[0mjob\u001b[0m\u001b[1;33m)\u001b[0m\u001b[1;33m\u001b[0m\u001b[0m\n\u001b[0;32m    590\u001b[0m \u001b[1;33m\u001b[0m\u001b[0m\n",
      "\u001b[1;32mD:\\Anaconda3\\lib\\site-packages\\sklearn\\externals\\joblib\\_parallel_backends.py\u001b[0m in \u001b[0;36mapply_async\u001b[1;34m(self, func, callback)\u001b[0m\n\u001b[0;32m    109\u001b[0m     \u001b[1;32mdef\u001b[0m \u001b[0mapply_async\u001b[0m\u001b[1;33m(\u001b[0m\u001b[0mself\u001b[0m\u001b[1;33m,\u001b[0m \u001b[0mfunc\u001b[0m\u001b[1;33m,\u001b[0m \u001b[0mcallback\u001b[0m\u001b[1;33m=\u001b[0m\u001b[1;32mNone\u001b[0m\u001b[1;33m)\u001b[0m\u001b[1;33m:\u001b[0m\u001b[1;33m\u001b[0m\u001b[0m\n\u001b[0;32m    110\u001b[0m         \u001b[1;34m\"\"\"Schedule a func to be run\"\"\"\u001b[0m\u001b[1;33m\u001b[0m\u001b[0m\n\u001b[1;32m--> 111\u001b[1;33m         \u001b[0mresult\u001b[0m \u001b[1;33m=\u001b[0m \u001b[0mImmediateResult\u001b[0m\u001b[1;33m(\u001b[0m\u001b[0mfunc\u001b[0m\u001b[1;33m)\u001b[0m\u001b[1;33m\u001b[0m\u001b[0m\n\u001b[0m\u001b[0;32m    112\u001b[0m         \u001b[1;32mif\u001b[0m \u001b[0mcallback\u001b[0m\u001b[1;33m:\u001b[0m\u001b[1;33m\u001b[0m\u001b[0m\n\u001b[0;32m    113\u001b[0m             \u001b[0mcallback\u001b[0m\u001b[1;33m(\u001b[0m\u001b[0mresult\u001b[0m\u001b[1;33m)\u001b[0m\u001b[1;33m\u001b[0m\u001b[0m\n",
      "\u001b[1;32mD:\\Anaconda3\\lib\\site-packages\\sklearn\\externals\\joblib\\_parallel_backends.py\u001b[0m in \u001b[0;36m__init__\u001b[1;34m(self, batch)\u001b[0m\n\u001b[0;32m    330\u001b[0m         \u001b[1;31m# Don't delay the application, to avoid keeping the input\u001b[0m\u001b[1;33m\u001b[0m\u001b[1;33m\u001b[0m\u001b[0m\n\u001b[0;32m    331\u001b[0m         \u001b[1;31m# arguments in memory\u001b[0m\u001b[1;33m\u001b[0m\u001b[1;33m\u001b[0m\u001b[0m\n\u001b[1;32m--> 332\u001b[1;33m         \u001b[0mself\u001b[0m\u001b[1;33m.\u001b[0m\u001b[0mresults\u001b[0m \u001b[1;33m=\u001b[0m \u001b[0mbatch\u001b[0m\u001b[1;33m(\u001b[0m\u001b[1;33m)\u001b[0m\u001b[1;33m\u001b[0m\u001b[0m\n\u001b[0m\u001b[0;32m    333\u001b[0m \u001b[1;33m\u001b[0m\u001b[0m\n\u001b[0;32m    334\u001b[0m     \u001b[1;32mdef\u001b[0m \u001b[0mget\u001b[0m\u001b[1;33m(\u001b[0m\u001b[0mself\u001b[0m\u001b[1;33m)\u001b[0m\u001b[1;33m:\u001b[0m\u001b[1;33m\u001b[0m\u001b[0m\n",
      "\u001b[1;32mD:\\Anaconda3\\lib\\site-packages\\sklearn\\externals\\joblib\\parallel.py\u001b[0m in \u001b[0;36m__call__\u001b[1;34m(self)\u001b[0m\n\u001b[0;32m    129\u001b[0m \u001b[1;33m\u001b[0m\u001b[0m\n\u001b[0;32m    130\u001b[0m     \u001b[1;32mdef\u001b[0m \u001b[0m__call__\u001b[0m\u001b[1;33m(\u001b[0m\u001b[0mself\u001b[0m\u001b[1;33m)\u001b[0m\u001b[1;33m:\u001b[0m\u001b[1;33m\u001b[0m\u001b[0m\n\u001b[1;32m--> 131\u001b[1;33m         \u001b[1;32mreturn\u001b[0m \u001b[1;33m[\u001b[0m\u001b[0mfunc\u001b[0m\u001b[1;33m(\u001b[0m\u001b[1;33m*\u001b[0m\u001b[0margs\u001b[0m\u001b[1;33m,\u001b[0m \u001b[1;33m**\u001b[0m\u001b[0mkwargs\u001b[0m\u001b[1;33m)\u001b[0m \u001b[1;32mfor\u001b[0m \u001b[0mfunc\u001b[0m\u001b[1;33m,\u001b[0m \u001b[0margs\u001b[0m\u001b[1;33m,\u001b[0m \u001b[0mkwargs\u001b[0m \u001b[1;32min\u001b[0m \u001b[0mself\u001b[0m\u001b[1;33m.\u001b[0m\u001b[0mitems\u001b[0m\u001b[1;33m]\u001b[0m\u001b[1;33m\u001b[0m\u001b[0m\n\u001b[0m\u001b[0;32m    132\u001b[0m \u001b[1;33m\u001b[0m\u001b[0m\n\u001b[0;32m    133\u001b[0m     \u001b[1;32mdef\u001b[0m \u001b[0m__len__\u001b[0m\u001b[1;33m(\u001b[0m\u001b[0mself\u001b[0m\u001b[1;33m)\u001b[0m\u001b[1;33m:\u001b[0m\u001b[1;33m\u001b[0m\u001b[0m\n",
      "\u001b[1;32mD:\\Anaconda3\\lib\\site-packages\\sklearn\\externals\\joblib\\parallel.py\u001b[0m in \u001b[0;36m<listcomp>\u001b[1;34m(.0)\u001b[0m\n\u001b[0;32m    129\u001b[0m \u001b[1;33m\u001b[0m\u001b[0m\n\u001b[0;32m    130\u001b[0m     \u001b[1;32mdef\u001b[0m \u001b[0m__call__\u001b[0m\u001b[1;33m(\u001b[0m\u001b[0mself\u001b[0m\u001b[1;33m)\u001b[0m\u001b[1;33m:\u001b[0m\u001b[1;33m\u001b[0m\u001b[0m\n\u001b[1;32m--> 131\u001b[1;33m         \u001b[1;32mreturn\u001b[0m \u001b[1;33m[\u001b[0m\u001b[0mfunc\u001b[0m\u001b[1;33m(\u001b[0m\u001b[1;33m*\u001b[0m\u001b[0margs\u001b[0m\u001b[1;33m,\u001b[0m \u001b[1;33m**\u001b[0m\u001b[0mkwargs\u001b[0m\u001b[1;33m)\u001b[0m \u001b[1;32mfor\u001b[0m \u001b[0mfunc\u001b[0m\u001b[1;33m,\u001b[0m \u001b[0margs\u001b[0m\u001b[1;33m,\u001b[0m \u001b[0mkwargs\u001b[0m \u001b[1;32min\u001b[0m \u001b[0mself\u001b[0m\u001b[1;33m.\u001b[0m\u001b[0mitems\u001b[0m\u001b[1;33m]\u001b[0m\u001b[1;33m\u001b[0m\u001b[0m\n\u001b[0m\u001b[0;32m    132\u001b[0m \u001b[1;33m\u001b[0m\u001b[0m\n\u001b[0;32m    133\u001b[0m     \u001b[1;32mdef\u001b[0m \u001b[0m__len__\u001b[0m\u001b[1;33m(\u001b[0m\u001b[0mself\u001b[0m\u001b[1;33m)\u001b[0m\u001b[1;33m:\u001b[0m\u001b[1;33m\u001b[0m\u001b[0m\n",
      "\u001b[1;32mD:\\Anaconda3\\lib\\site-packages\\sklearn\\ensemble\\forest.py\u001b[0m in \u001b[0;36m_parallel_build_trees\u001b[1;34m(tree, forest, X, y, sample_weight, tree_idx, n_trees, verbose, class_weight)\u001b[0m\n\u001b[0;32m    118\u001b[0m             \u001b[0mcurr_sample_weight\u001b[0m \u001b[1;33m*=\u001b[0m \u001b[0mcompute_sample_weight\u001b[0m\u001b[1;33m(\u001b[0m\u001b[1;34m'balanced'\u001b[0m\u001b[1;33m,\u001b[0m \u001b[0my\u001b[0m\u001b[1;33m,\u001b[0m \u001b[0mindices\u001b[0m\u001b[1;33m)\u001b[0m\u001b[1;33m\u001b[0m\u001b[0m\n\u001b[0;32m    119\u001b[0m \u001b[1;33m\u001b[0m\u001b[0m\n\u001b[1;32m--> 120\u001b[1;33m         \u001b[0mtree\u001b[0m\u001b[1;33m.\u001b[0m\u001b[0mfit\u001b[0m\u001b[1;33m(\u001b[0m\u001b[0mX\u001b[0m\u001b[1;33m,\u001b[0m \u001b[0my\u001b[0m\u001b[1;33m,\u001b[0m \u001b[0msample_weight\u001b[0m\u001b[1;33m=\u001b[0m\u001b[0mcurr_sample_weight\u001b[0m\u001b[1;33m,\u001b[0m \u001b[0mcheck_input\u001b[0m\u001b[1;33m=\u001b[0m\u001b[1;32mFalse\u001b[0m\u001b[1;33m)\u001b[0m\u001b[1;33m\u001b[0m\u001b[0m\n\u001b[0m\u001b[0;32m    121\u001b[0m     \u001b[1;32melse\u001b[0m\u001b[1;33m:\u001b[0m\u001b[1;33m\u001b[0m\u001b[0m\n\u001b[0;32m    122\u001b[0m         \u001b[0mtree\u001b[0m\u001b[1;33m.\u001b[0m\u001b[0mfit\u001b[0m\u001b[1;33m(\u001b[0m\u001b[0mX\u001b[0m\u001b[1;33m,\u001b[0m \u001b[0my\u001b[0m\u001b[1;33m,\u001b[0m \u001b[0msample_weight\u001b[0m\u001b[1;33m=\u001b[0m\u001b[0msample_weight\u001b[0m\u001b[1;33m,\u001b[0m \u001b[0mcheck_input\u001b[0m\u001b[1;33m=\u001b[0m\u001b[1;32mFalse\u001b[0m\u001b[1;33m)\u001b[0m\u001b[1;33m\u001b[0m\u001b[0m\n",
      "\u001b[1;32mD:\\Anaconda3\\lib\\site-packages\\sklearn\\tree\\tree.py\u001b[0m in \u001b[0;36mfit\u001b[1;34m(self, X, y, sample_weight, check_input, X_idx_sorted)\u001b[0m\n\u001b[0;32m    788\u001b[0m             \u001b[0msample_weight\u001b[0m\u001b[1;33m=\u001b[0m\u001b[0msample_weight\u001b[0m\u001b[1;33m,\u001b[0m\u001b[1;33m\u001b[0m\u001b[0m\n\u001b[0;32m    789\u001b[0m             \u001b[0mcheck_input\u001b[0m\u001b[1;33m=\u001b[0m\u001b[0mcheck_input\u001b[0m\u001b[1;33m,\u001b[0m\u001b[1;33m\u001b[0m\u001b[0m\n\u001b[1;32m--> 790\u001b[1;33m             X_idx_sorted=X_idx_sorted)\n\u001b[0m\u001b[0;32m    791\u001b[0m         \u001b[1;32mreturn\u001b[0m \u001b[0mself\u001b[0m\u001b[1;33m\u001b[0m\u001b[0m\n\u001b[0;32m    792\u001b[0m \u001b[1;33m\u001b[0m\u001b[0m\n",
      "\u001b[1;32mD:\\Anaconda3\\lib\\site-packages\\sklearn\\tree\\tree.py\u001b[0m in \u001b[0;36mfit\u001b[1;34m(self, X, y, sample_weight, check_input, X_idx_sorted)\u001b[0m\n\u001b[0;32m    360\u001b[0m                                            min_impurity_split)\n\u001b[0;32m    361\u001b[0m \u001b[1;33m\u001b[0m\u001b[0m\n\u001b[1;32m--> 362\u001b[1;33m         \u001b[0mbuilder\u001b[0m\u001b[1;33m.\u001b[0m\u001b[0mbuild\u001b[0m\u001b[1;33m(\u001b[0m\u001b[0mself\u001b[0m\u001b[1;33m.\u001b[0m\u001b[0mtree_\u001b[0m\u001b[1;33m,\u001b[0m \u001b[0mX\u001b[0m\u001b[1;33m,\u001b[0m \u001b[0my\u001b[0m\u001b[1;33m,\u001b[0m \u001b[0msample_weight\u001b[0m\u001b[1;33m,\u001b[0m \u001b[0mX_idx_sorted\u001b[0m\u001b[1;33m)\u001b[0m\u001b[1;33m\u001b[0m\u001b[0m\n\u001b[0m\u001b[0;32m    363\u001b[0m \u001b[1;33m\u001b[0m\u001b[0m\n\u001b[0;32m    364\u001b[0m         \u001b[1;32mif\u001b[0m \u001b[0mself\u001b[0m\u001b[1;33m.\u001b[0m\u001b[0mn_outputs_\u001b[0m \u001b[1;33m==\u001b[0m \u001b[1;36m1\u001b[0m\u001b[1;33m:\u001b[0m\u001b[1;33m\u001b[0m\u001b[0m\n",
      "\u001b[1;31mKeyboardInterrupt\u001b[0m: "
     ]
    }
   ],
   "source": [
    "import itertools\n",
    "\n",
    "for combo in itertools.combinations(range(14),7):\n",
    "    print(combo)\n",
    "    rforest = RandomForestClassifier(n_estimators=250, criterion='entropy',max_depth=20, min_samples_leaf=15000, max_features=0.5)\n",
    "    rforest.fit(Xtr[:,combo], Ytr)\n",
    "    print(1-rforest.score(Xva[:,combo],Yva))"
   ]
  },
  {
   "cell_type": "code",
   "execution_count": 9,
   "metadata": {
    "collapsed": true
   },
   "outputs": [],
   "source": [
    "# Xte = np.genfromtxt('X_test.txt', delimiter=None)\n",
    "file_name = \"Y_submit.txt\"\n",
    "np.savetxt(file_name,\\\n",
    "       np.vstack( (np.arange(len(avgprobs15)) , avgprobs15) ).T,\n",
    "       '%d, %.2f',header='ID,Prob1',comments='',delimiter=',');"
   ]
  },
  {
   "cell_type": "code",
   "execution_count": 12,
   "metadata": {
    "collapsed": true
   },
   "outputs": [],
   "source": [
    "\n",
    "np.savetxt('randomforest.txt',np.vstack(rforest.predict_proba(Xte)[:,1]),'%.2f',comments='',delimiter=',')"
   ]
  },
  {
   "cell_type": "code",
   "execution_count": 10,
   "metadata": {
    "collapsed": true
   },
   "outputs": [],
   "source": [
    "np.savetxt('randomforestcv.txt',np.vstack(avgprobs15),'%.2f',comments='',delimiter=',')"
   ]
  },
  {
   "cell_type": "code",
   "execution_count": 1,
   "metadata": {},
   "outputs": [
    {
     "ename": "NameError",
     "evalue": "name 'RandomForestClassifier' is not defined",
     "output_type": "error",
     "traceback": [
      "\u001b[1;31m---------------------------------------------------------------------------\u001b[0m",
      "\u001b[1;31mNameError\u001b[0m                                 Traceback (most recent call last)",
      "\u001b[1;32m<ipython-input-1-13e394c31702>\u001b[0m in \u001b[0;36m<module>\u001b[1;34m()\u001b[0m\n\u001b[1;32m----> 1\u001b[1;33m \u001b[0mrforest\u001b[0m \u001b[1;33m=\u001b[0m \u001b[0mRandomForestClassifier\u001b[0m\u001b[1;33m(\u001b[0m\u001b[0mn_estimators\u001b[0m\u001b[1;33m=\u001b[0m\u001b[1;36m250\u001b[0m\u001b[1;33m,\u001b[0m \u001b[0mcriterion\u001b[0m\u001b[1;33m=\u001b[0m\u001b[1;34m'entropy'\u001b[0m\u001b[1;33m,\u001b[0m\u001b[0mmax_depth\u001b[0m\u001b[1;33m=\u001b[0m\u001b[1;36m20\u001b[0m\u001b[1;33m,\u001b[0m \u001b[0mmin_samples_leaf\u001b[0m\u001b[1;33m=\u001b[0m\u001b[1;36m200\u001b[0m\u001b[1;33m,\u001b[0m \u001b[0mmax_features\u001b[0m\u001b[1;33m=\u001b[0m\u001b[1;36m0.5\u001b[0m\u001b[1;33m)\u001b[0m\u001b[1;33m\u001b[0m\u001b[0m\n\u001b[0m\u001b[0;32m      2\u001b[0m \u001b[0mrforest\u001b[0m\u001b[1;33m.\u001b[0m\u001b[0mfit\u001b[0m\u001b[1;33m(\u001b[0m\u001b[0mXtr\u001b[0m\u001b[1;33m,\u001b[0m\u001b[0mYtr\u001b[0m\u001b[1;33m)\u001b[0m\u001b[1;33m\u001b[0m\u001b[0m\n",
      "\u001b[1;31mNameError\u001b[0m: name 'RandomForestClassifier' is not defined"
     ]
    }
   ],
   "source": [
    "rforest = RandomForestClassifier(n_estimators=250, criterion='entropy',max_depth=20, min_samples_leaf=200, max_features=0.5)\n",
    "rforest.fit(Xtr,Ytr)"
   ]
  },
  {
   "cell_type": "code",
   "execution_count": 27,
   "metadata": {
    "scrolled": true
   },
   "outputs": [
    {
     "name": "stdout",
     "output_type": "stream",
     "text": [
      "ROC = 0.739086184305\n",
      "training err = 0.286693333333\n",
      "val err = 0.28558\n"
     ]
    }
   ],
   "source": [
    "print(\"ROC =\", roc_auc_score(Yva, rforest.predict_proba(Xva)[:,1]) )\n",
    "print(\"training err =\", 1-rforest.score(Xtr,Ytr))\n",
    "print(\"val err =\", 1-rforest.score(Xva,Yva))"
   ]
  },
  {
   "cell_type": "code",
   "execution_count": 4,
   "metadata": {
    "collapsed": true
   },
   "outputs": [],
   "source": [
    "from sklearn.ensemble import ExtraTreesClassifier\n",
    "from sklearn.tree import DecisionTreeClassifier\n",
    "from sklearn.model_selection import KFold\n"
   ]
  },
  {
   "cell_type": "code",
   "execution_count": 38,
   "metadata": {},
   "outputs": [
    {
     "data": {
      "text/plain": [
       "[<matplotlib.lines.Line2D at 0xc5169ae6d8>]"
      ]
     },
     "execution_count": 38,
     "metadata": {},
     "output_type": "execute_result"
    },
    {
     "data": {
      "image/png": "[encoded data removed]",
      "text/plain": [
       "<matplotlib.figure.Figure at 0xc5169ae208>"
      ]
     },
     "metadata": {},
     "output_type": "display_data"
    }
   ],
   "source": [
    "trainerr = []\n",
    "valerr = []\n",
    "for i in [1,2,5,10,25,50,100,250,500,1000]:\n",
    "    extreme = ExtraTreesClassifier(n_estimators=i)\n",
    "    extreme.fit(Xtr,Ytr)\n",
    "    trainerr.append(1-extreme.score(Xtr,Ytr))\n",
    "    valerr.append(1-extreme.score(Xva,Yva))\n",
    "\n",
    "plt.plot([1,2,5,10,25,50,100,250,500,1000],trainerr,color='r')\n",
    "plt.plot([1,2,5,10,25,50,100,250,500,1000],valerr,color='g')"
   ]
  },
  {
   "cell_type": "code",
   "execution_count": 45,
   "metadata": {},
   "outputs": [
    {
     "name": "stdout",
     "output_type": "stream",
     "text": [
      "ROC = 0.723977419228\n",
      "training err = 0.0487733333333\n",
      "val err = 0.2744\n"
     ]
    }
   ],
   "source": [
    "extreme = ExtraTreesClassifier(n_estimators=500)\n",
    "extreme.fit(Xtr,Ytr)\n",
    "print(\"ROC =\", roc_auc_score(Yva, extreme.predict_proba(Xva)[:,1]) )\n",
    "print(\"training err =\", 1-extreme.score(Xtr,Ytr))\n",
    "print(\"val err =\", 1-extreme.score(Xva,Yva))"
   ]
  },
  {
   "cell_type": "code",
   "execution_count": 47,
   "metadata": {},
   "outputs": [
    {
     "data": {
      "text/plain": [
       "[<matplotlib.lines.Line2D at 0xc5287c5668>]"
      ]
     },
     "execution_count": 47,
     "metadata": {},
     "output_type": "execute_result"
    },
    {
     "data": {
      "image/png": "[encoded data removed]",
      "text/plain": [
       "<matplotlib.figure.Figure at 0xc5287c5860>"
      ]
     },
     "metadata": {},
     "output_type": "display_data"
    }
   ],
   "source": [
    "trainerr = []\n",
    "valerr = []\n",
    "for i in [1,2,3,4,5,7,10,12,15,20,25,35,50]:\n",
    "    extreme = ExtraTreesClassifier(n_estimators=50,max_depth=i)\n",
    "    extreme.fit(Xtr,Ytr)\n",
    "    trainerr.append(1-extreme.score(Xtr,Ytr))\n",
    "    valerr.append(1-extreme.score(Xva,Yva))\n",
    "\n",
    "plt.plot([1,2,3,4,5,7,10,12,15,20,25,35,50],trainerr,color='r')\n",
    "plt.plot([1,2,3,4,5,7,10,12,15,20,25,35,50],valerr,color='g')"
   ]
  },
  {
   "cell_type": "code",
   "execution_count": 48,
   "metadata": {},
   "outputs": [
    {
     "data": {
      "text/plain": [
       "[<matplotlib.lines.Line2D at 0xc52405ea58>]"
      ]
     },
     "execution_count": 48,
     "metadata": {},
     "output_type": "execute_result"
    },
    {
     "data": {
      "image/png": "[encoded data removed]",
      "text/plain": [
       "<matplotlib.figure.Figure at 0xc52405eba8>"
      ]
     },
     "metadata": {},
     "output_type": "display_data"
    }
   ],
   "source": [
    "trainerr = []\n",
    "valerr = []\n",
    "for i in [1,2,3,4,5,7,10,12,15,20,25,35,50]:\n",
    "    extreme = ExtraTreesClassifier(n_estimators=50,max_depth=25,min_samples_leaf=i)\n",
    "    extreme.fit(Xtr,Ytr)\n",
    "    trainerr.append(1-extreme.score(Xtr,Ytr))\n",
    "    valerr.append(1-extreme.score(Xva,Yva))\n",
    "\n",
    "plt.plot([1,2,3,4,5,7,10,12,15,20,25,35,50],trainerr,color='r')\n",
    "plt.plot([1,2,3,4,5,7,10,12,15,20,25,35,50],valerr,color='g')"
   ]
  },
  {
   "cell_type": "code",
   "execution_count": null,
   "metadata": {
    "collapsed": true
   },
   "outputs": [],
   "source": [
    "for i in [1,2,5,10,25,50,100,250,500,1000]:\n",
    "    extreme = ExtraTreesClassifier(n_estimators=i)\n",
    "    extreme.fit(Xtr,Ytr)\n",
    "    trainerr.append(1-extreme.score(Xtr,Ytr))\n",
    "    valerr.append(1-extreme.score(Xva,Yva))"
   ]
  },
  {
   "cell_type": "code",
   "execution_count": 5,
   "metadata": {},
   "outputs": [
    {
     "data": {
      "text/plain": [
       "ExtraTreesClassifier(bootstrap=False, class_weight=None, criterion='gini',\n",
       "           max_depth=25, max_features='auto', max_leaf_nodes=None,\n",
       "           min_impurity_decrease=0.0, min_impurity_split=None,\n",
       "           min_samples_leaf=2, min_samples_split=2,\n",
       "           min_weight_fraction_leaf=0.0, n_estimators=50, n_jobs=1,\n",
       "           oob_score=False, random_state=None, verbose=0, warm_start=False)"
      ]
     },
     "execution_count": 5,
     "metadata": {},
     "output_type": "execute_result"
    }
   ],
   "source": [
    "extreme = ExtraTreesClassifier(n_estimators=50,max_depth=25,min_samples_leaf=2,)\n",
    "extreme.fit(Xtr,Ytr)"
   ]
  },
  {
   "cell_type": "code",
   "execution_count": 95,
   "metadata": {},
   "outputs": [
    {
     "name": "stdout",
     "output_type": "stream",
     "text": [
      "ROC = 0.764577145453\n",
      "training err = 0.1907\n",
      "val err = 0.26782\n"
     ]
    }
   ],
   "source": [
    "print(\"ROC =\", roc_auc_score(Yva, extreme.predict_proba(Xva)[:,1]) )\n",
    "print(\"training err =\", 1-extreme.score(Xtr,Ytr))\n",
    "print(\"val err =\", 1-extreme.score(Xva,Yva))"
   ]
  },
  {
   "cell_type": "code",
   "execution_count": 102,
   "metadata": {
    "collapsed": true
   },
   "outputs": [],
   "source": [
    "kf = KFold(n_splits=50)\n",
    "\n",
    "probs = []\n",
    "trainerr = []\n",
    "valerr = []\n",
    "for train,validation in kf.split(X):\n",
    "    extreme.fit(X[train],Y[train])\n",
    "    trainerr.append(1-extreme.score(X[train],Y[train]))\n",
    "    valerr.append(1-extreme.score(X[validation],Y[validation]))\n",
    "    probs.append(extreme.predict_proba(Xte)[:,1])"
   ]
  },
  {
   "cell_type": "code",
   "execution_count": 88,
   "metadata": {
    "collapsed": true
   },
   "outputs": [],
   "source": [
    "kf = KFold(n_splits=5)\n",
    "\n",
    "probs5 = []\n",
    "trainerr = []\n",
    "valerr = []\n",
    "for train,validation in kf.split(X):\n",
    "    extreme.fit(X[train],Y[train])\n",
    "    trainerr.append(1-extreme.score(X[train],Y[train]))\n",
    "    valerr.append(1-extreme.score(X[validation],Y[validation]))\n",
    "    probs5.append(extreme.predict_proba(Xte)[:,1])"
   ]
  },
  {
   "cell_type": "code",
   "execution_count": 6,
   "metadata": {
    "collapsed": true
   },
   "outputs": [],
   "source": [
    "kf = KFold(n_splits=15)\n",
    "\n",
    "probs15 = []\n",
    "trainerr = []\n",
    "valerr = []\n",
    "for train,validation in kf.split(X):\n",
    "    extreme.fit(X[train],Y[train])\n",
    "    trainerr.append(1-extreme.score(X[train],Y[train]))\n",
    "    valerr.append(1-extreme.score(X[validation],Y[validation]))\n",
    "    probs15.append(extreme.predict_proba(Xte)[:,1])"
   ]
  },
  {
   "cell_type": "code",
   "execution_count": 67,
   "metadata": {},
   "outputs": [
    {
     "data": {
      "text/plain": [
       "[<matplotlib.lines.Line2D at 0xc517f2ec50>]"
      ]
     },
     "execution_count": 67,
     "metadata": {},
     "output_type": "execute_result"
    },
    {
     "data": {
      "image/png": "[encoded data removed]",
      "text/plain": [
       "<matplotlib.figure.Figure at 0xc5179a4320>"
      ]
     },
     "metadata": {},
     "output_type": "display_data"
    }
   ],
   "source": [
    "plt.plot([i for i in range(len(trainerr))],trainerr,color='r')\n",
    "plt.plot([i for i in range(len(trainerr))],valerr,color='g')"
   ]
  },
  {
   "cell_type": "code",
   "execution_count": 85,
   "metadata": {
    "collapsed": true
   },
   "outputs": [],
   "source": [
    "avgprobs = np.mean(probs,axis=0)"
   ]
  },
  {
   "cell_type": "code",
   "execution_count": 7,
   "metadata": {
    "collapsed": true
   },
   "outputs": [],
   "source": [
    "avgprobs15 = np.mean(probs15,axis=0)"
   ]
  },
  {
   "cell_type": "code",
   "execution_count": 98,
   "metadata": {},
   "outputs": [
    {
     "data": {
      "text/plain": [
       "[array([ 0.21424974,  0.18705763,  0.32532495, ...,  0.48294212,\n",
       "         0.74486512,  0.57394591]),\n",
       " array([ 0.23215527,  0.17262125,  0.32646615, ...,  0.54946712,\n",
       "         0.73167334,  0.51225977]),\n",
       " array([ 0.23971198,  0.12927663,  0.30733597, ...,  0.49880657,\n",
       "         0.76334635,  0.53089387]),\n",
       " array([ 0.2516835 ,  0.14492466,  0.29011879, ...,  0.48448795,\n",
       "         0.76086611,  0.51221998]),\n",
       " array([ 0.24321042,  0.16539873,  0.37283783, ...,  0.48931987,\n",
       "         0.72766501,  0.49904139]),\n",
       " array([ 0.22428986,  0.15086727,  0.386227  , ...,  0.50598887,\n",
       "         0.72434529,  0.55167959]),\n",
       " array([ 0.2324621 ,  0.13883957,  0.29339717, ...,  0.50521011,\n",
       "         0.74765407,  0.49254516]),\n",
       " array([ 0.22678137,  0.16900907,  0.33065754, ...,  0.55678598,\n",
       "         0.71751667,  0.53610387]),\n",
       " array([ 0.2824136 ,  0.1837159 ,  0.35417179, ...,  0.50248283,\n",
       "         0.7268681 ,  0.49267872]),\n",
       " array([ 0.22285207,  0.1495967 ,  0.31253384, ...,  0.49494092,\n",
       "         0.72320763,  0.52097938]),\n",
       " array([ 0.22278249,  0.16060364,  0.35481345, ...,  0.47873276,\n",
       "         0.72479695,  0.56127545]),\n",
       " array([ 0.21305091,  0.22699973,  0.4094603 , ...,  0.49660995,\n",
       "         0.75041943,  0.57952361]),\n",
       " array([ 0.2081585 ,  0.14622827,  0.38182345, ...,  0.50805708,\n",
       "         0.72780773,  0.52760194]),\n",
       " array([ 0.24570229,  0.11857099,  0.41574096, ...,  0.4816008 ,\n",
       "         0.75027764,  0.49771738]),\n",
       " array([ 0.23924529,  0.16296465,  0.3206907 , ...,  0.49534874,\n",
       "         0.64074466,  0.43632653])]"
      ]
     },
     "execution_count": 98,
     "metadata": {},
     "output_type": "execute_result"
    }
   ],
   "source": [
    "probs15"
   ]
  },
  {
   "cell_type": "code",
   "execution_count": 100,
   "metadata": {},
   "outputs": [
    {
     "name": "stdout",
     "output_type": "stream",
     "text": [
      "ROC = 0.910353752811\n"
     ]
    }
   ],
   "source": [
    "print(\"ROC =\", roc_auc_score(Y, avgprobs))"
   ]
  }
 ],
 "metadata": {
  "kernelspec": {
   "display_name": "Python 3",
   "language": "python",
   "name": "python3"
  },
  "language_info": {
   "codemirror_mode": {
    "name": "ipython",
    "version": 3
   },
   "file_extension": ".py",
   "mimetype": "text/x-python",
   "name": "python",
   "nbconvert_exporter": "python",
   "pygments_lexer": "ipython3",
   "version": "3.6.2"
  }
 },
 "nbformat": 4,
 "nbformat_minor": 2
}
