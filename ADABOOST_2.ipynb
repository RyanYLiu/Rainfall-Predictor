{
 "cells": [
  {
   "cell_type": "code",
   "execution_count": 3,
   "metadata": {},
   "outputs": [],
   "source": [
    "from __future__ import division\n",
    "import numpy as np\n",
    "import matplotlib.pyplot as plt\n",
    "import mltools as ml\n",
    "%matplotlib inline\n",
    "np.random.seed(0)\n",
    "from sklearn.ensemble import AdaBoostClassifier\n",
    "from sklearn.model_selection import cross_val_score\n",
    "from sklearn.tree import DecisionTreeClassifier\n",
    "from sklearn.metrics import roc_auc_score\n",
    "from sklearn.grid_search import GridSearchCV\n",
    "from sklearn.calibration import CalibratedClassifierCV\n",
    "\n",
    "import warnings\n",
    "warnings.filterwarnings('ignore')\n",
    "\n",
    "X = np.genfromtxt('X_train.txt', delimiter=None)\n",
    "Y = np.genfromtxt('Y_train.txt', delimiter=None)\n",
    "X,Y = ml.shuffleData(X,Y)\n",
    "Xtr, Xva, Ytr, Yva = ml.splitData(X, Y, 0.75)"
   ]
  },
  {
   "cell_type": "code",
   "execution_count": 36,
   "metadata": {},
   "outputs": [
    {
     "name": "stdout",
     "output_type": "stream",
     "text": [
      "10\n",
      "ROC = 0.68560033166\n",
      "training err = 0.299993333333\n",
      "val err = 0.30304\n",
      "\n",
      "50\n",
      "ROC = 0.712714227785\n",
      "training err = 0.283206666667\n",
      "val err = 0.28962\n",
      "\n",
      "250\n",
      "ROC = 0.743577376856\n",
      "training err = 0.25236\n",
      "val err = 0.27642\n",
      "\n",
      "500\n",
      "ROC = 0.754271825253\n",
      "training err = 0.2293\n",
      "val err = 0.26884\n",
      "\n",
      "1000\n",
      "ROC = 0.760227320214\n",
      "training err = 0.197153333333\n",
      "val err = 0.26526\n",
      "\n",
      "2500\n",
      "ROC = 0.760923167115\n",
      "training err = 0.146806666667\n",
      "val err = 0.26428\n",
      "\n"
     ]
    }
   ],
   "source": [
    "Xtr, Xva, Ytr, Yva = ml.splitData(X, Y, 0.75)\n",
    "\n",
    "for i in [10, 50, 250, 500, 1000, 2500]:\n",
    "    ada = AdaBoostClassifier(base_estimator = DecisionTreeClassifier(criterion='entropy', max_depth=4, max_features=5),\\\n",
    "                         n_estimators=i, learning_rate=0.5)\n",
    "    ada.fit(Xtr,Ytr)\n",
    "    print(i)\n",
    "    print(\"ROC =\", roc_auc_score(Yva, ada.predict_proba(Xva)[:,1]) )\n",
    "    print(\"training err =\", 1-ada.score(Xtr,Ytr))\n",
    "    print(\"val err =\", 1-ada.score(Xva,Yva))\n",
    "    print()"
   ]
  },
  {
   "cell_type": "code",
   "execution_count": 48,
   "metadata": {},
   "outputs": [
    {
     "name": "stdout",
     "output_type": "stream",
     "text": [
      "10\n",
      "ROC = 0.680723344461\n",
      "training err = 0.302206666667\n",
      "val err = 0.3032\n",
      "\n",
      "50\n",
      "ROC = 0.703066197495\n",
      "training err = 0.291673333333\n",
      "val err = 0.29504\n",
      "\n",
      "250\n",
      "ROC = 0.729669209694\n",
      "training err = 0.27294\n",
      "val err = 0.28366\n",
      "\n",
      "500\n",
      "ROC = 0.743654572884\n",
      "training err = 0.261393333333\n",
      "val err = 0.27614\n",
      "\n",
      "1000\n",
      "ROC = 0.755441302901\n",
      "training err = 0.250073333333\n",
      "val err = 0.27068\n",
      "\n",
      "2500\n",
      "ROC = 0.771714100292\n",
      "training err = 0.224973333333\n",
      "val err = 0.26296\n",
      "\n"
     ]
    }
   ],
   "source": [
    "for i in [10, 50, 250, 500, 1000, 2500]:\n",
    "    ada = AdaBoostClassifier(\\\n",
    "        base_estimator = dtree,n_estimators=i, learning_rate=0.5)\n",
    "    ada.fit(Xtr,Ytr)\n",
    "    print(i)\n",
    "    print(\"ROC =\", roc_auc_score(Yva, ada.predict_proba(Xva)[:,1]) )\n",
    "    print(\"training err =\", 1-ada.score(Xtr,Ytr))\n",
    "    print(\"val err =\", 1-ada.score(Xva,Yva))\n",
    "    print()"
   ]
  },
  {
   "cell_type": "code",
   "execution_count": 75,
   "metadata": {},
   "outputs": [
    {
     "name": "stdout",
     "output_type": "stream",
     "text": [
      "ROC = 0.78312776522\n",
      "training err = 0.25924\n",
      "val err = 0.25864\n"
     ]
    }
   ],
   "source": [
    "ada = AdaBoostClassifier(dtree,n_estimators=1000, learning_rate=0.3)\n",
    "\n",
    "ada.fit(X,Y)\n",
    "\n",
    "print(\"ROC =\", roc_auc_score(Yva, ada.predict_proba(Xva)[:,1]) )\n",
    "print(\"training err =\", 1-ada.score(Xtr,Ytr))\n",
    "print(\"val err =\", 1-ada.score(Xva,Yva))"
   ]
  },
  {
   "cell_type": "code",
   "execution_count": 46,
   "metadata": {
    "collapsed": true
   },
   "outputs": [],
   "source": [
    "dtree = DecisionTreeClassifier(max_depth=4,criterion='entropy',min_samples_split=512,max_features=0.5,min_samples_leaf=2048)"
   ]
  },
  {
   "cell_type": "code",
   "execution_count": 79,
   "metadata": {},
   "outputs": [
    {
     "data": {
      "image/png": "[encoded data removed]",
      "text/plain": [
       "<matplotlib.figure.Figure at 0x7ac96789b0>"
      ]
     },
     "metadata": {},
     "output_type": "display_data"
    }
   ],
   "source": [
    "minParents = [1,2,3,4,5,7,10,15,20,25,30,50]\n",
    "trainErr = np.zeros(len(minParents))\n",
    "valErr = np.zeros(len(minParents))\n",
    "\n",
    "for i,k in enumerate(minParents):\n",
    "    learner = DecisionTreeClassifier(max_depth=k)\n",
    "    learner.fit(Xtr,Ytr)\n",
    "    trainErr[i] = 1-learner.score(Xtr,Ytr)\n",
    "    valErr[i] = 1-learner.score(Xva,Yva)\n",
    "\n",
    "plt.xticks(minParents)\n",
    "plt.plot(minParents, trainErr, label = 'training', color = 'r')\n",
    "plt.plot(minParents, valErr, label = 'validation', color = 'g')\n",
    "plt.legend(loc = 4)\n",
    "plt.show()"
   ]
  },
  {
   "cell_type": "code",
   "execution_count": 81,
   "metadata": {},
   "outputs": [
    {
     "data": {
      "image/png": "[encoded data removed]",
      "text/plain": [
       "<matplotlib.figure.Figure at 0x7ab622f320>"
      ]
     },
     "metadata": {},
     "output_type": "display_data"
    }
   ],
   "source": [
    "minParents = [1,2,3,4,5,10,25,50,100,250,500,1000,5000,10000,15000,20000]\n",
    "trainErr = np.zeros(len(minParents))\n",
    "valErr = np.zeros(len(minParents))\n",
    "\n",
    "for i,k in enumerate(minParents):\n",
    "    learner = DecisionTreeClassifier(max_depth=15, min_samples_leaf=k)\n",
    "    learner.fit(Xtr,Ytr)\n",
    "    trainErr[i] = 1-learner.score(Xtr,Ytr)\n",
    "    valErr[i] = 1-learner.score(Xva,Yva)\n",
    "\n",
    "plt.xticks(minParents)\n",
    "plt.plot(minParents, trainErr, label = 'training', color = 'r')\n",
    "plt.plot(minParents, valErr, label = 'validation', color = 'g')\n",
    "plt.legend(loc = 4)\n",
    "plt.show()"
   ]
  },
  {
   "cell_type": "code",
   "execution_count": 5,
   "metadata": {
    "collapsed": true
   },
   "outputs": [],
   "source": [
    "dtree = learner = DecisionTreeClassifier(max_depth=15, min_samples_leaf=15000,max_features='sqrt')"
   ]
  },
  {
   "cell_type": "code",
   "execution_count": 85,
   "metadata": {},
   "outputs": [
    {
     "name": "stdout",
     "output_type": "stream",
     "text": [
      "ROC = 0.617172166704\n",
      "training err = 0.3254\n",
      "val err = 0.32366\n",
      "ROC = 0.640638110386\n",
      "training err = 0.31876\n",
      "val err = 0.3162\n",
      "ROC = 0.646260044341\n",
      "training err = 0.3155\n",
      "val err = 0.31374\n",
      "ROC = 0.656023593108\n",
      "training err = 0.313626666667\n",
      "val err = 0.31326\n",
      "ROC = 0.644001244961\n",
      "training err = 0.317873333333\n",
      "val err = 0.31946\n",
      "ROC = 0.661156168525\n",
      "training err = 0.314846666667\n",
      "val err = 0.31498\n",
      "ROC = 0.666348866451\n",
      "training err = 0.311833333333\n",
      "val err = 0.31088\n",
      "ROC = 0.682388996678\n",
      "training err = 0.305606666667\n",
      "val err = 0.30622\n",
      "ROC = 0.689652733432\n",
      "training err = 0.301066666667\n",
      "val err = 0.30222\n",
      "ROC = 0.698557293787\n",
      "training err = 0.2944\n",
      "val err = 0.29722\n",
      "ROC = 0.712677883351\n",
      "training err = 0.286406666667\n",
      "val err = 0.29434\n",
      "ROC = 0.726669602402\n",
      "training err = 0.276213333333\n",
      "val err = 0.28504\n",
      "ROC = 0.740687635809\n",
      "training err = 0.26452\n",
      "val err = 0.2794\n"
     ]
    }
   ],
   "source": [
    "for i in [1,2,3,4,5,7,10,25,50,100,250,500,1000]:\n",
    "    ada = AdaBoostClassifier(dtree,n_estimators=i)\n",
    "    ada.fit(Xtr,Ytr)\n",
    "    print(\"ROC =\", roc_auc_score(Yva, ada.predict_proba(Xva)[:,1]) )\n",
    "    print(\"training err =\", 1-ada.score(Xtr,Ytr))\n",
    "    print(\"val err =\", 1-ada.score(Xva,Yva))"
   ]
  },
  {
   "cell_type": "code",
   "execution_count": 86,
   "metadata": {},
   "outputs": [
    {
     "name": "stdout",
     "output_type": "stream",
     "text": [
      "ROC = 0.706388450154\n",
      "training err = 0.293033333333\n",
      "val err = 0.29562\n",
      "ROC = 0.716457813339\n",
      "training err = 0.285733333333\n",
      "val err = 0.29054\n",
      "ROC = 0.72136577455\n",
      "training err = 0.28114\n",
      "val err = 0.28742\n",
      "ROC = 0.730818904533\n",
      "training err = 0.273966666667\n",
      "val err = 0.2843\n",
      "ROC = 0.735293028916\n",
      "training err = 0.270013333333\n",
      "val err = 0.28098\n",
      "ROC = 0.739715299563\n",
      "training err = 0.26344\n",
      "val err = 0.27888\n"
     ]
    }
   ],
   "source": [
    "for i in [0.1,0.2,0.3,0.5,0.7,1]:\n",
    "    ada = AdaBoostClassifier(dtree,n_estimators=1000,learning_rate=i)\n",
    "    ada.fit(Xtr,Ytr)\n",
    "    print(\"ROC =\", roc_auc_score(Yva, ada.predict_proba(Xva)[:,1]) )\n",
    "    print(\"training err =\", 1-ada.score(Xtr,Ytr))\n",
    "    print(\"val err =\", 1-ada.score(Xva,Yva))"
   ]
  },
  {
   "cell_type": "code",
   "execution_count": 89,
   "metadata": {},
   "outputs": [
    {
     "name": "stdout",
     "output_type": "stream",
     "text": [
      "ROC = 0.743424663168\n",
      "training err = 0.263073333333\n",
      "val err = 0.27862\n"
     ]
    }
   ],
   "source": [
    "print(\"ROC =\", roc_auc_score(Yva, ada.predict_proba(Xva)[:,1]) )\n",
    "print(\"training err =\", 1-ada.score(Xtr,Ytr))\n",
    "print(\"val err =\", 1-ada.score(Xva,Yva))"
   ]
  },
  {
   "cell_type": "code",
   "execution_count": 6,
   "metadata": {},
   "outputs": [
    {
     "data": {
      "text/plain": [
       "AdaBoostClassifier(algorithm='SAMME.R',\n",
       "          base_estimator=DecisionTreeClassifier(class_weight=None, criterion='gini', max_depth=15,\n",
       "            max_features='sqrt', max_leaf_nodes=None,\n",
       "            min_impurity_decrease=0.0, min_impurity_split=None,\n",
       "            min_samples_leaf=15000, min_samples_split=2,\n",
       "            min_weight_fraction_leaf=0.0, presort=False, random_state=None,\n",
       "            splitter='best'),\n",
       "          learning_rate=0.5, n_estimators=2000, random_state=None)"
      ]
     },
     "execution_count": 6,
     "metadata": {},
     "output_type": "execute_result"
    }
   ],
   "source": [
    "ada = AdaBoostClassifier(dtree,n_estimators=2000,learning_rate=0.5)\n",
    "ada.fit(Xtr,Ytr)"
   ]
  },
  {
   "cell_type": "code",
   "execution_count": 7,
   "metadata": {},
   "outputs": [
    {
     "name": "stdout",
     "output_type": "stream",
     "text": [
      "training err = 0.26354\n",
      "val err = 0.27852\n"
     ]
    }
   ],
   "source": [
    "calibration = CalibratedClassifierCV(cv='prefit',base_estimator=ada,method='sigmoid')\n",
    "calibration.fit(Xtr,Ytr)\n",
    "print(\"training err =\", 1-ada.score(Xtr,Ytr))\n",
    "print(\"val err =\", 1-ada.score(Xva,Yva))"
   ]
  },
  {
   "cell_type": "code",
   "execution_count": 94,
   "metadata": {},
   "outputs": [
    {
     "data": {
      "text/plain": [
       "0.79432781808457076"
      ]
     },
     "execution_count": 94,
     "metadata": {},
     "output_type": "execute_result"
    }
   ],
   "source": [
    "roc_auc_score(Yva, calibration.predict_proba(Xva)[:,1])"
   ]
  },
  {
   "cell_type": "code",
   "execution_count": 95,
   "metadata": {
    "collapsed": true
   },
   "outputs": [],
   "source": [
    "np.savetxt('adaboost.txt',np.vstack(calibration.predict_proba(Xte)[:,1]),'%.2f',comments='',delimiter=',')"
   ]
  },
  {
   "cell_type": "code",
   "execution_count": 68,
   "metadata": {
    "collapsed": true
   },
   "outputs": [],
   "source": [
    "def to_kaggle(prediction):\n",
    "    file_name = \"Y_submit.txt\"\n",
    "    np.savetxt(file_name,\n",
    "           np.vstack( (np.arange(len(prediction)) , prediction) ).T,\n",
    "           '%d, %.2f',header='ID,Prob1',comments='',delimiter=',');"
   ]
  },
  {
   "cell_type": "code",
   "execution_count": 78,
   "metadata": {
    "collapsed": true
   },
   "outputs": [],
   "source": [
    "Xte = np.genfromtxt('X_test.txt', delimiter=None)\n",
    "to_kaggle(calibration.predict_proba(Xte)[:,1])"
   ]
  },
  {
   "cell_type": "code",
   "execution_count": 31,
   "metadata": {},
   "outputs": [
    {
     "data": {
      "text/plain": [
       "0.75386036369808018"
      ]
     },
     "execution_count": 31,
     "metadata": {},
     "output_type": "execute_result"
    }
   ],
   "source": [
    "roc_auc_score(Yva, forest.predict_proba(Xva)[:,1])"
   ]
  },
  {
   "cell_type": "code",
   "execution_count": 96,
   "metadata": {
    "collapsed": true
   },
   "outputs": [],
   "source": [
    "to_kaggle(calibration.predict_proba(Xte)[:,1])"
   ]
  },
  {
   "cell_type": "code",
   "execution_count": 98,
   "metadata": {
    "collapsed": true
   },
   "outputs": [],
   "source": [
    "from sklearn.model_selection import KFold"
   ]
  },
  {
   "cell_type": "code",
   "execution_count": 103,
   "metadata": {
    "collapsed": true
   },
   "outputs": [],
   "source": [
    "kf = KFold(n_splits=15)\n",
    "\n",
    "probstest = []\n",
    "probsvalidation = []\n",
    "trainerr = []\n",
    "valerr = []\n",
    "for train,validation in kf.split(X):\n",
    "    ada.fit(X[train],Y[train])\n",
    "    calibration = CalibratedClassifierCV(cv='prefit',base_estimator=ada,method='sigmoid')\n",
    "    calibration.fit(X[train],Y[train])\n",
    "    trainerr.append(1-calibration.score(X[train],Y[train]))\n",
    "    valerr.append(1-calibration.score(X[validation],Y[validation]))\n",
    "    probstest.append(calibration.predict_proba(Xte)[:,1])"
   ]
  },
  {
   "cell_type": "code",
   "execution_count": 104,
   "metadata": {
    "collapsed": true
   },
   "outputs": [],
   "source": [
    "avgprobs = np.mean(probstest,axis=0)"
   ]
  },
  {
   "cell_type": "code",
   "execution_count": 105,
   "metadata": {},
   "outputs": [
    {
     "name": "stdout",
     "output_type": "stream",
     "text": [
      "ROC = 0.500160930871\n"
     ]
    }
   ],
   "source": [
    "print(\"ROC =\", roc_auc_score(Y, avgprobs))"
   ]
  }
 ],
 "metadata": {
  "kernelspec": {
   "display_name": "Python 3",
   "language": "python",
   "name": "python3"
  },
  "language_info": {
   "codemirror_mode": {
    "name": "ipython",
    "version": 3
   },
   "file_extension": ".py",
   "mimetype": "text/x-python",
   "name": "python",
   "nbconvert_exporter": "python",
   "pygments_lexer": "ipython3",
   "version": "3.6.2"
  }
 },
 "nbformat": 4,
 "nbformat_minor": 2
}
